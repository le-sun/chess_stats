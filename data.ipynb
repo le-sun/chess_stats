{
 "cells": [
  {
   "cell_type": "code",
   "execution_count": 7,
   "id": "bd3b54ab-19ba-427c-881e-b95fab98a213",
   "metadata": {},
   "outputs": [],
   "source": [
    "import json\n",
    "import requests\n",
    "\n",
    "from datetime import datetime\n",
    "from pathlib import Path\n"
   ]
  },
  {
   "cell_type": "code",
   "execution_count": null,
   "id": "f905531c-5925-4c39-9c6c-a5a80bcacb5f",
   "metadata": {},
   "outputs": [],
   "source": [
    "base_url = \"https://api.chess.com/pub/player/hikaru/games/\"\n",
    "start_year = 2022\n",
    "start_month = 1\n",
    "end_year = 2023\n",
    "end_month = 12\n",
    "\n",
    "\n",
    "for year in range(start_year, end_year + 1):\n",
    "    for month in range(start_month, end_month + 1):\n",
    "        if year == 2023 and month >= 12:\n",
    "            break\n",
    "\n",
    "        datetime_obj = datetime(year=year, month=month, day=1)\n",
    "        year_month_str = datetime_obj.strftime(\"%Y/%m\")\n",
    "        url = f\"{base_url}{year_month_str}\"\n",
    "        res = requests.get(url, headers={\"user-agent\": \"Mozilla/5.0 (Windows NT 10.0; Win64; x64)\"})\n",
    "        with open(f\"games/{year}_{month}.json\", \"w+\") as f:\n",
    "            print(f\"Downloading games from {year}/{month}\")\n",
    "            f.write(res.text)\n"
   ]
  },
  {
   "cell_type": "code",
   "execution_count": 8,
   "id": "d31662c4-58f7-4a31-8a48-2ce73be15e9c",
   "metadata": {},
   "outputs": [],
   "source": [
    "games = Path(\"games/\").glob('20*')\n",
    "cleaned_games = []\n",
    "for game_path in games:\n",
    "    with open(game_path, \"r\") as f:\n",
    "        game_json = json.loads(f.read())\n",
    "\n",
    "    games = game_json[\"games\"]\n",
    "    for game in games:\n",
    "        white_elo = game[\"white\"][\"rating\"]\n",
    "        black_elo = game[\"black\"][\"rating\"]\n",
    "        if game[\"time_control\"] == \"180\" and game[\"rated\"] is True and abs(white_elo - black_elo) <= 2000:\n",
    "            cleaned_games.append(game)\n",
    "\n",
    "with open(f\"games/cleaned_games.json\", \"w+\") as f:\n",
    "    f.write(json.dumps(cleaned_games))\n",
    "cleaned_games = []\n"
   ]
  },
  {
   "cell_type": "code",
   "execution_count": null,
   "id": "81387706-a40d-4344-8b5c-2a9328c70312",
   "metadata": {},
   "outputs": [],
   "source": []
  }
 ],
 "metadata": {
  "kernelspec": {
   "display_name": "Python 3 (ipykernel)",
   "language": "python",
   "name": "python3"
  },
  "language_info": {
   "codemirror_mode": {
    "name": "ipython",
    "version": 3
   },
   "file_extension": ".py",
   "mimetype": "text/x-python",
   "name": "python",
   "nbconvert_exporter": "python",
   "pygments_lexer": "ipython3",
   "version": "3.10.8"
  }
 },
 "nbformat": 4,
 "nbformat_minor": 5
}
